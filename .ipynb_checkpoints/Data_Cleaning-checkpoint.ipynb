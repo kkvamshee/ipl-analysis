{
 "cells": [
  {
   "cell_type": "code",
   "execution_count": 1,
   "metadata": {},
   "outputs": [],
   "source": [
    "import os, sys, time\n",
    "\n",
    "from datetime import datetime\n",
    "\n",
    "import numpy as np\n",
    "import pandas as pd\n",
    "import matplotlib.pyplot as plt\n",
    "import seaborn as sns\n",
    "\n",
    "from sklearn.preprocessing import LabelEncoder\n",
    "\n",
    "pd.set_option('MAX_COLUMNS', 50)"
   ]
  },
  {
   "cell_type": "code",
   "execution_count": 2,
   "metadata": {},
   "outputs": [
    {
     "name": "stdout",
     "output_type": "stream",
     "text": [
      "Number of matches in the data : 751\n"
     ]
    }
   ],
   "source": [
    "matches = list(filter(lambda x: x[-3:]=='csv', os.listdir()))\n",
    "print('Number of matches in the data : {0}'.format(len(matches)))"
   ]
  },
  {
   "cell_type": "code",
   "execution_count": 3,
   "metadata": {},
   "outputs": [
    {
     "ename": "FileExistsError",
     "evalue": "[WinError 183] Cannot create a file when that file already exists: 'temp.csv' -> 'balldata/1082591.csv'",
     "output_type": "error",
     "traceback": [
      "\u001b[1;31m---------------------------------------------------------------------------\u001b[0m",
      "\u001b[1;31mFileExistsError\u001b[0m                           Traceback (most recent call last)",
      "\u001b[1;32m<ipython-input-3-4ac381a5a64f>\u001b[0m in \u001b[0;36m<module>\u001b[1;34m()\u001b[0m\n\u001b[0;32m     17\u001b[0m         \u001b[0mhashmap\u001b[0m\u001b[1;33m[\u001b[0m\u001b[1;34m'match_id'\u001b[0m\u001b[1;33m]\u001b[0m \u001b[1;33m=\u001b[0m \u001b[0mmatch\u001b[0m\u001b[1;33m\u001b[0m\u001b[0m\n\u001b[0;32m     18\u001b[0m         \u001b[0mhashlist\u001b[0m\u001b[1;33m.\u001b[0m\u001b[0mappend\u001b[0m\u001b[1;33m(\u001b[0m\u001b[0mhashmap\u001b[0m\u001b[1;33m)\u001b[0m\u001b[1;33m\u001b[0m\u001b[0m\n\u001b[1;32m---> 19\u001b[1;33m     \u001b[0mos\u001b[0m\u001b[1;33m.\u001b[0m\u001b[0mrename\u001b[0m\u001b[1;33m(\u001b[0m\u001b[1;34m'temp.csv'\u001b[0m\u001b[1;33m,\u001b[0m \u001b[1;34m'balldata/'\u001b[0m\u001b[1;33m+\u001b[0m\u001b[0mmatch\u001b[0m\u001b[1;33m)\u001b[0m\u001b[1;33m\u001b[0m\u001b[0m\n\u001b[0m",
      "\u001b[1;31mFileExistsError\u001b[0m: [WinError 183] Cannot create a file when that file already exists: 'temp.csv' -> 'balldata/1082591.csv'"
     ]
    }
   ],
   "source": [
    "hashlist = []\n",
    "\n",
    "for match in matches:\n",
    "    hashmap = {}\n",
    "    with open(match) as matchdata, open('temp.csv', 'w') as out:\n",
    "        for line in matchdata:\n",
    "            balldata = line.split(',')\n",
    "            if balldata[0]==\"info\":\n",
    "                #print(balldata)\n",
    "                if balldata[1] not in hashmap:\n",
    "                    hashmap[balldata[1]] = balldata[2][:-1]\n",
    "                else:\n",
    "                    hashmap[balldata[1]+'2'] = balldata[2][:-1]\n",
    "            elif balldata[0]==\"ball\":\n",
    "                out.write(line)\n",
    "        \n",
    "        hashmap['match_id'] = match        \n",
    "        hashlist.append(hashmap)\n",
    "    os.rename('temp.csv', 'balldata/'+match)"
   ]
  },
  {
   "cell_type": "code",
   "execution_count": null,
   "metadata": {},
   "outputs": [],
   "source": [
    "hashmap"
   ]
  },
  {
   "cell_type": "code",
   "execution_count": null,
   "metadata": {},
   "outputs": [],
   "source": [
    "metadata = pd.DataFrame(hashlist)\n",
    "meta = metadata.copy()"
   ]
  },
  {
   "cell_type": "code",
   "execution_count": null,
   "metadata": {},
   "outputs": [],
   "source": [
    "cols = ['ball', 'innings', 'over', 'team', 'striker', 'non-striker', 'bowler', 'runs', 'extras', 'wicket', 'out_batsmen']\n",
    "\n",
    "os.chdir('balldata')\n",
    "\n",
    "for match in os.listdir():\n",
    "    try:\n",
    "        df = pd.read_csv(match, header=None)\n",
    "        df.columns = cols\n",
    "        df.to_csv(match, index=False)\n",
    "    except:\n",
    "        print(match)\n",
    "        os.remove(match)\n",
    "        os.remove('../'+match)\n",
    "        \n",
    "\n",
    "os.chdir('..')"
   ]
  },
  {
   "cell_type": "code",
   "execution_count": null,
   "metadata": {},
   "outputs": [],
   "source": [
    "def convertDate(d):\n",
    "    if type(d)==float:\n",
    "        return np.nan\n",
    "    else:\n",
    "        return datetime.strptime(d, \"%Y/%m/%d\")\n",
    "\n",
    "metadata['date'] = meta['date'].map(lambda x: convertDate(x))"
   ]
  },
  {
   "cell_type": "code",
   "execution_count": null,
   "metadata": {},
   "outputs": [],
   "source": [
    "metadata.sort_values(by=\"date\", inplace=True)"
   ]
  },
  {
   "cell_type": "code",
   "execution_count": null,
   "metadata": {
    "scrolled": false
   },
   "outputs": [],
   "source": [
    "metadata.head()"
   ]
  },
  {
   "cell_type": "markdown",
   "metadata": {},
   "source": [
    "# Let's explore NaN values (missing values)."
   ]
  },
  {
   "cell_type": "code",
   "execution_count": null,
   "metadata": {
    "scrolled": false
   },
   "outputs": [],
   "source": [
    "metadata.isnull().sum()"
   ]
  },
  {
   "cell_type": "markdown",
   "metadata": {},
   "source": [
    "<div style=\"border: 1px solid black; padding: 1.5em; line-height:2; border-radius: 15px;\">\n",
    "    <div><strong>There are 5 NaN values in several columns.</strong></div>\n",
    "    <div><strong>Let's see if it is just coincidence(which I don't like) or do we have 5 empty rows.... </strong></div>\n",
    "</div>"
   ]
  },
  {
   "cell_type": "code",
   "execution_count": null,
   "metadata": {},
   "outputs": [],
   "source": [
    "metadata.loc[(metadata.city.isnull())]"
   ]
  },
  {
   "cell_type": "markdown",
   "metadata": {},
   "source": [
    "<div style=\"border: 1px solid black; padding: 1.5em; line-height:2; border-radius: 15px;\">\n",
    "\n",
    "<div><strong>files 1136561.csv-1136565.csv are empty</strong></div>\n",
    "\n",
    "<div>Deleting these empty rows is a reasonable option now.</div>\n",
    "</div>"
   ]
  },
  {
   "cell_type": "code",
   "execution_count": null,
   "metadata": {},
   "outputs": [],
   "source": [
    "metadata = metadata.loc[np.logical_not(metadata.city.isnull())]\n",
    "meta = meta.loc[np.logical_not(meta.city.isnull())]\n",
    "metadata.isnull().sum()"
   ]
  },
  {
   "cell_type": "markdown",
   "metadata": {},
   "source": [
    "<div style=\"border: 1px solid black; padding: 1.5em; line-height:2; border-radius: 15px;\">\n",
    "    <div>Yaay..!! now a whole lot of columns are clear with <strong>Zero</strong> missing values.</div>\n",
    "\n",
    "<div>Don't get too excited already, we still have a lot of missing values to deal with.</div>\n",
    "\n",
    "<div><strong>Date2</strong> has 749 missing values. Since, having a secondary date for a match is very rare it makes sense to have a lot of missing values.</div>\n",
    "\n",
    "<h2> Data Processing </h2>\n",
    "<ul>\n",
    "    <li>As the matches with a not-NaN value for <strong>date2</strong> are played on date2, we are going to have an ultimate date variable <strong>\"match_date\"</strong> holding the date on which the match was held on.</li>\n",
    "    <li><strong>Gender</strong> will be removed all the matches are of Men's category and hence <strong>Gender</strong> variable holds <strong>zero</strong> information.</li>\n",
    "    <li><strong>Neutral Venue</strong> will also converted to boolean</li>\n",
    "    <li>Umpires don't have any influence on the outcome of a game(Assuming they are fair). As of now, I am not going to consider Umpire data for further analysis</li>\n",
    "    <li><strong>Winner</strong> and <strong>outcome</strong> go hand in hand. So, combining these two variables will make our data clear.</li>\n",
    "</ul>\n",
    "\n",
    "<div>After cleaning the data as mentioned above, we are going to have a look at <strong>match_number, method, player_of_match, eliminator</strong> columns.</div>\n",
    "</div>"
   ]
  },
  {
   "cell_type": "code",
   "execution_count": null,
   "metadata": {},
   "outputs": [],
   "source": [
    "#merging date and date2\n",
    "match_dates = []\n",
    "for date1, date2 in zip(metadata.date.values, metadata.date2.values):\n",
    "    if type(date2)==float:\n",
    "        match_dates.append(date1)\n",
    "    else:\n",
    "        match_dates.append(date2)\n",
    "\n",
    "metadata['match_date'] = match_dates\n",
    "metadata.drop(['date', 'date2'], axis=1, inplace=True)"
   ]
  },
  {
   "cell_type": "code",
   "execution_count": null,
   "metadata": {
    "scrolled": false
   },
   "outputs": [],
   "source": [
    "#removing umpire related variables\n",
    "metadata.drop('gender', axis=1, inplace=True)\n",
    "metadata['neutralvenue'] = meta['neutralvenue'].map(lambda x: 0 if type(x)==float else 1)\n",
    "metadata.drop(['reserve_umpire', 'tv_umpire', 'umpire', 'umpire2', 'match_referee'], axis=1, inplace=True)"
   ]
  },
  {
   "cell_type": "code",
   "execution_count": null,
   "metadata": {
    "scrolled": true
   },
   "outputs": [],
   "source": [
    "#merging outcome and winner attribute values.\n",
    "outcomes=[]\n",
    "for out, win in zip(metadata['outcome'], metadata['winner']):\n",
    "    if type(win)==float:\n",
    "        outcomes.append(out)\n",
    "    else:\n",
    "        outcomes.append(win)\n",
    "\n",
    "metadata['winner'] = outcomes\n",
    "metadata.drop('outcome', axis=1, inplace=True)"
   ]
  },
  {
   "cell_type": "markdown",
   "metadata": {},
   "source": [
    "<h2 style=\"text-align: center; font-size:2.5em;\"> match_number </h2>"
   ]
  },
  {
   "cell_type": "code",
   "execution_count": null,
   "metadata": {},
   "outputs": [],
   "source": [
    "metadata.loc[(metadata.match_number.isnull())].season.value_counts()"
   ]
  },
  {
   "cell_type": "markdown",
   "metadata": {},
   "source": [
    "<div style=\"border: 1px solid black; padding: 1.5em; line-height:2; border-radius: 15px;\">\n",
    "    <div>The variable <strong>match_number</strong> has several null values. But the null values are evenly divided among the seasons(3 in first two seasons and 4 in rest of them). </div>\n",
    "    <div>Again, this cannot be coincidence(or null values have some meaning here). They probably represent knockout-stage matches.</div>\n",
    "    <div>Lets see if our initial guess is true.</div>\n",
    "</div>\n",
    "    "
   ]
  },
  {
   "cell_type": "code",
   "execution_count": null,
   "metadata": {
    "scrolled": false
   },
   "outputs": [],
   "source": [
    "metadata.loc[(metadata.match_number.isnull())]"
   ]
  },
  {
   "cell_type": "markdown",
   "metadata": {},
   "source": [
    "<div style=\"border: 1px solid black; padding: 1.5em; line-height:2; border-radius: 15px;\">\n",
    "<ul>\n",
    "<li>Indeed, all the matches with no match_number attribute correspond to knockout/playoff matches. IPL used to follow two semi-final format during the initial seasons. IPL officials later changed the structure of playoffs/knockouts favouring the top two teams that out-performed rest of the teams in the league stage of the game. Former(2 semi-final) format comprised of three matches after the league stage of IPL whereas the latter format resulted in 4 matches after the round-robin part of the league.</li>\n",
    "\n",
    "<li>As the <strong>match_number</strong> is just a serial number we can remove <strong>match_number</strong> variable.</li>\n",
    "<li>According to our exploration, <em><strong>null values in match_number represent knockout stage matches</strong></em>. We can retain this information in a new column before removing the match_number column.</li>\n",
    "</ul>\n",
    "</div>"
   ]
  },
  {
   "cell_type": "code",
   "execution_count": null,
   "metadata": {},
   "outputs": [],
   "source": [
    "# adding 'is_league_match' attribute to the data\n",
    "metadata['is_league_match'] = meta['match_number'].isnull().astype(int)\n",
    "\n",
    "#removing 'match_number' attribute from the data.\n",
    "metadata.drop('match_number', axis=1, inplace=True)"
   ]
  },
  {
   "cell_type": "markdown",
   "metadata": {},
   "source": [
    "<h2 style=\"text-align: center; font-size:2.5em;\"> Eliminator </h2>"
   ]
  },
  {
   "cell_type": "code",
   "execution_count": null,
   "metadata": {},
   "outputs": [],
   "source": [
    "metadata.loc[np.logical_not(metadata.eliminator.isnull())]"
   ]
  },
  {
   "cell_type": "code",
   "execution_count": null,
   "metadata": {},
   "outputs": [],
   "source": [
    "for matchcsv in metadata.loc[np.logical_not(metadata.eliminator.isnull())].match_id.values:\n",
    "    temp = pd.read_csv('balldata/'+matchcsv)\n",
    "    print(\"Number of innings in {0} : {1}\".format(matchcsv, temp.loc[:,'innings'].nunique()))"
   ]
  },
  {
   "cell_type": "markdown",
   "metadata": {},
   "source": [
    "<div style=\"border: 1px solid black; padding: 1.5em; line-height:2; border-radius: 15px;\">\n",
    "    <ul>\n",
    "    <li>All the matches which have non-null value for <strong>eliminator</strong> represent the tie matches where the winner is decided by a super-over</li>\n",
    "    <li>We can merge the <strong>winner</strong> column with <strong>eliminator</strong> column and have a new column <strong>'has_super_over'</strong> to show if the corresponding match led to a super-over ot not. </li>\n",
    "    </ul>"
   ]
  },
  {
   "cell_type": "code",
   "execution_count": null,
   "metadata": {},
   "outputs": [],
   "source": [
    "#merging eliminator and winner attributes.\n",
    "\n",
    "outcomes = []\n",
    "for out, win in zip(metadata.eliminator.values, metadata.winner.values):\n",
    "    if win==\"tie\":\n",
    "        outcomes.append(out)\n",
    "    else:\n",
    "        outcomes.append(win)\n",
    "\n",
    "metadata.loc[:, 'winner'] = outcomes\n",
    "metadata['has_super_over'] = 1 - metadata.eliminator.isnull().astype(int)\n",
    "metadata.drop('eliminator', axis=1, inplace=True)"
   ]
  },
  {
   "cell_type": "code",
   "execution_count": null,
   "metadata": {},
   "outputs": [],
   "source": [
    "metadata.has_super_over.value_counts()"
   ]
  },
  {
   "cell_type": "markdown",
   "metadata": {},
   "source": [
    "<h2 style=\"text-align: center; font-size:2.5em;\"> Method </h2>"
   ]
  },
  {
   "cell_type": "code",
   "execution_count": null,
   "metadata": {},
   "outputs": [],
   "source": [
    "print(\"Number of matches with 'method' attribute : {}\".format(metadata.method.size - metadata.method.isnull().sum()))"
   ]
  },
  {
   "cell_type": "code",
   "execution_count": null,
   "metadata": {},
   "outputs": [],
   "source": [
    "metadata.loc[np.logical_not(metadata.method.isnull())]"
   ]
  },
  {
   "cell_type": "code",
   "execution_count": null,
   "metadata": {},
   "outputs": [],
   "source": [
    "metadata.method.value_counts()"
   ]
  },
  {
   "cell_type": "markdown",
   "metadata": {},
   "source": [
    "<div style=\"border: 1px solid black; padding: 1.5em; line-height:2; border-radius: 15px;\">\n",
    "<ul>\n",
    "    <li>All the matches, where the final outcome is decided by <a href=\"https://en.wikipedia.org/wiki/Duckworth%E2%80%93Lewis%E2%80%93Stern_method\" target=\"_blank\"><b>DLS</b> method</a> has <b>method</b> attribute set to the value <b>\"D/L\"</b></li>\n",
    "    <li>DLS method is only used, if rain(or any other disturbance) has delayed the match for significant time.</li>\n",
    "    <li> Hence, <b>method</b> attribute can be converted into a <b>boolean holder</b></li>\n",
    "</ul>\n",
    "</div>"
   ]
  },
  {
   "cell_type": "code",
   "execution_count": null,
   "metadata": {},
   "outputs": [],
   "source": [
    "metadata.loc[:, 'method'] = np.logical_not(meta.method.isnull()).astype(int)\n",
    "metadata.method.value_counts()"
   ]
  },
  {
   "cell_type": "markdown",
   "metadata": {},
   "source": [
    "<h2 style=\"text-align: center; font-size:2.5em;\"> Player_of_match </h2>"
   ]
  },
  {
   "cell_type": "code",
   "execution_count": null,
   "metadata": {},
   "outputs": [],
   "source": [
    "metadata.loc[metadata.player_of_match.isnull()]"
   ]
  },
  {
   "cell_type": "code",
   "execution_count": null,
   "metadata": {},
   "outputs": [],
   "source": [
    "metadata.winner.value_counts()['no result']"
   ]
  },
  {
   "cell_type": "markdown",
   "metadata": {},
   "source": [
    "<div style=\"border: 1px solid black; padding: 1.5em; line-height:2; border-radius: 15px;\">\n",
    "<ul>\n",
    "    <li>There are 4 matches with no 'player_of_match' attribute.</li>\n",
    "    <li>Further inspection shows all these four matches have attribute <b>method</b> set to <b>\"D/L\"</b>.</li>\n",
    "    <li>Rain wiped out the whole time allocated to the corresponding match. Hence we neither have a winner nor a player_of_match for such matches.</li>\n",
    "</ul>\n",
    "</div>"
   ]
  },
  {
   "cell_type": "code",
   "execution_count": null,
   "metadata": {},
   "outputs": [],
   "source": []
  },
  {
   "cell_type": "code",
   "execution_count": null,
   "metadata": {},
   "outputs": [],
   "source": [
    "metadata.isnull().sum()"
   ]
  },
  {
   "cell_type": "markdown",
   "metadata": {},
   "source": [
    "<div style=\"border: 1px solid black; padding: 1.5em; line-height:2; border-radius: 15px;\">\n",
    "<div>Our data looks much clean now :)</div>\n",
    "</div>"
   ]
  },
  {
   "cell_type": "markdown",
   "metadata": {},
   "source": [
    "<h2 style=\"text-align: center; font-size:2.5em;\"> Feature Augmentation </h2>\n",
    "<div style=\"border: 1px solid black; padding: 1.5em; line-height:2; border-radius: 15px;\">\n",
    "    <div>This is the time to reinforce our analysis with some custom variables<div>\n",
    "    <div>\n",
    "        <div>New variables to add in our data:</div>\n",
    "        <ul>\n",
    "            <li>toss_looser :- Team which lost the toss.</li>\n",
    "            <li>bat1 :- first batting team</li>\n",
    "            <li>bat2 :- second batting team</li>\n",
    "            <li>toss_winner_is_match_winner :- <b>True</b> if the team which won the <b>toss</b> eventually <b>wins the match</b></li>\n",
    "            <li>score1 :- Runs scored by the team batting first.</li>\n",
    "            <li>score2 :- Runs scored bt the team batting second.</li>\n",
    "            <li>runrate_diff :- difference in runrate of both the teams</li>\n",
    "            <li>balls1 :- Balls faced by team batting first</li>\n",
    "            <li>balls2 :- Balls faced by team batting second</li>\n",
    "            <li>mom_team :- Team of \"player of match\"</li>\n",
    "        </ul>\n",
    "    </div>\n",
    "    <div>\n",
    "        <div>But, before moving ahead let's make some changes to the structure of the data.</div>\n",
    "        <ul>\n",
    "            <li>Rename <b>\"team\"</b> and <b>\"team2\"</b> as <b>\"home_team\"</b> and <b>\"away_team\"</b> respectively</li>\n",
    "            <li>Create a LabelEncoder mapping team name to an integer</li>\n",
    "            <li>Encode team names according to the above created LabelEncoder in the whole dataset.</li>\n",
    "            <li>Remove the redundant <b>competition</b> variable</li>\n",
    "        </ul>\n",
    "    </div>\n",
    "</div>"
   ]
  },
  {
   "cell_type": "code",
   "execution_count": null,
   "metadata": {},
   "outputs": [],
   "source": [
    "metadata.rename({'team':'home_team', 'team2':'away_team'}, axis=1, inplace=True)"
   ]
  },
  {
   "cell_type": "code",
   "execution_count": null,
   "metadata": {},
   "outputs": [],
   "source": [
    "metadata.drop('competition', axis=1, inplace=True)"
   ]
  },
  {
   "cell_type": "code",
   "execution_count": null,
   "metadata": {},
   "outputs": [],
   "source": [
    "team_name_encoder = LabelEncoder()\n",
    "team_name_encoder.fit(metadata.winner.values)\n",
    "team_name_encoder.classes_.size"
   ]
  },
  {
   "cell_type": "code",
   "execution_count": null,
   "metadata": {},
   "outputs": [],
   "source": [
    "for idx,team in enumerate(team_name_encoder.classes_):\n",
    "    print('{}. {}'.format(idx+1, team))"
   ]
  },
  {
   "cell_type": "code",
   "execution_count": null,
   "metadata": {},
   "outputs": [],
   "source": [
    "metadata.replace({\"Delhi Capitals\": \"Delhi Daredevils\", \"Rising Pune Supergiant\": \"Rising Pune Supergiants\"}, inplace=True)"
   ]
  },
  {
   "cell_type": "code",
   "execution_count": null,
   "metadata": {},
   "outputs": [],
   "source": [
    "team_name_encoder = LabelEncoder()\n",
    "team_name_encoder.fit(metadata.winner.values)\n",
    "team_name_encoder.classes_"
   ]
  },
  {
   "cell_type": "code",
   "execution_count": null,
   "metadata": {},
   "outputs": [],
   "source": [
    "#encoding team name\n",
    "for col in ['home_team', 'away_team', 'toss_winner', 'winner']:\n",
    "    metadata[col] = team_name_encoder.transform(metadata[col])"
   ]
  },
  {
   "cell_type": "code",
   "execution_count": null,
   "metadata": {},
   "outputs": [],
   "source": []
  },
  {
   "cell_type": "code",
   "execution_count": null,
   "metadata": {},
   "outputs": [],
   "source": [
    "loosers = []\n",
    "for home, away, winner in zip(metadata.home_team.values, metadata.away_team.values, metadata.winner.values):\n",
    "    if winner == home:\n",
    "        loosers.append(away)\n",
    "    else:\n",
    "        loosers.append(home)\n",
    "        \n",
    "metadata['toss_looser'] = loosers"
   ]
  },
  {
   "cell_type": "code",
   "execution_count": null,
   "metadata": {},
   "outputs": [],
   "source": [
    "bat1=[]\n",
    "bat2=[]\n",
    "\n",
    "for decision, winner, looser in zip(metadata.toss_decision.values, metadata.toss_winner.values, metadata.toss_looser.values):\n",
    "    if decision == \"bat\":\n",
    "        bat1.append(winner)\n",
    "        bat2.append(looser)\n",
    "    else:\n",
    "        bat1.append(looser)\n",
    "        bat2.append(winner)\n",
    "\n",
    "metadata['bat1'] = bat1\n",
    "metadata['bat2'] = bat2"
   ]
  },
  {
   "cell_type": "code",
   "execution_count": null,
   "metadata": {},
   "outputs": [],
   "source": [
    "metadata['toss_winner_is_winner'] = (metadata['toss_winner']==metadata['winner'])\n",
    "metadata['toss_winner_is_winner'] = metadata['toss_winner_is_winner'].astype(int)"
   ]
  },
  {
   "cell_type": "code",
   "execution_count": null,
   "metadata": {},
   "outputs": [],
   "source": [
    "def score(match, innings):\n",
    "    delivery_data = pd.read_csv('balldata/'+match)\n",
    "    if innings > delivery_data['innings'].nunique():\n",
    "        return np.nan\n",
    "    \n",
    "    delivery_data = delivery_data.groupby('innings').sum().loc[innings]\n",
    "    return delivery_data['runs']+delivery_data['extras']\n",
    "    \n",
    "def extras(match, innings):\n",
    "    delivery_data = pd.read_csv('balldata/'+match)\n",
    "    if innings> delivery_data['innings'].nunique():\n",
    "        return np.nan\n",
    "    return delivery_data.groupby('innings').sum()['extras'][innings]\n",
    "\n",
    "def delivery_count(match, innings):\n",
    "    delivery_data = pd.read_csv('balldata/'+match)\n",
    "    if innings > delivery_data['innings'].nunique():\n",
    "        return np.nan\n",
    "    return delivery_data.loc[delivery_data.innings==innings].shape[0]\n",
    "\n",
    "def runrate(match, innings):\n",
    "    runs = score(match, innings)\n",
    "    delivery_data = pd.read_csv('balldata/'+match)\n",
    "    if innings > delivery_data['innings'].nunique():\n",
    "        return None\n",
    "    \n",
    "    lastball = delivery_data.loc[delivery_data.innings==innings]['over'].values[-1]\n",
    "    legal_balls = (lastball//1)*6 + (lastball*10)%10\n",
    "    \n",
    "    return (6*runs)/legal_balls"
   ]
  },
  {
   "cell_type": "code",
   "execution_count": null,
   "metadata": {},
   "outputs": [],
   "source": [
    "start = time.time()\n",
    "score1 = []\n",
    "score2 = []\n",
    "extras1 = []\n",
    "extras2 = []\n",
    "balls1 = []\n",
    "balls2 =[]\n",
    "runrate1 = []\n",
    "runrate2 = []\n",
    "\n",
    "for match in metadata.match_id.values:\n",
    "    score1.append(score(match, 1))\n",
    "    extras1.append(extras(match, 2))\n",
    "    balls1.append(delivery_count(match, 1))\n",
    "    runrate1.append(runrate(match, 1))\n",
    "    \n",
    "    score2.append(score(match, 2))\n",
    "    extras2.append(extras(match, 1))\n",
    "    balls2.append(delivery_count(match, 2))\n",
    "    runrate2.append(runrate(match, 2))\n",
    "\n",
    "metadata['score1'] = score1\n",
    "metadata['score2'] = score2\n",
    "metadata['extras1'] = extras1\n",
    "metadata['extras2'] = extras2\n",
    "metadata['balls1'] = balls1\n",
    "metadata['balls2'] = balls2\n",
    "metadata['runrate1'] = runrate1\n",
    "metadata['runrate2'] = runrate2\n",
    "\n",
    "print(\"Excecution Time : {0:.3f} s\".format(time.time()-start))"
   ]
  },
  {
   "cell_type": "code",
   "execution_count": null,
   "metadata": {},
   "outputs": [],
   "source": [
    "metadata.head()"
   ]
  },
  {
   "cell_type": "code",
   "execution_count": null,
   "metadata": {},
   "outputs": [],
   "source": [
    "metadata.index = np.arange(metadata.shape[0]).astype(int)"
   ]
  },
  {
   "cell_type": "code",
   "execution_count": null,
   "metadata": {},
   "outputs": [],
   "source": [
    "metadata.head()"
   ]
  },
  {
   "cell_type": "code",
   "execution_count": null,
   "metadata": {},
   "outputs": [],
   "source": [
    "metadata.to_csv('metadata/metadata.csv', index=False)"
   ]
  },
  {
   "cell_type": "code",
   "execution_count": null,
   "metadata": {},
   "outputs": [],
   "source": []
  }
 ],
 "metadata": {
  "kernelspec": {
   "display_name": "Python 3",
   "language": "python",
   "name": "python3"
  },
  "language_info": {
   "codemirror_mode": {
    "name": "ipython",
    "version": 3
   },
   "file_extension": ".py",
   "mimetype": "text/x-python",
   "name": "python",
   "nbconvert_exporter": "python",
   "pygments_lexer": "ipython3",
   "version": "3.6.5"
  }
 },
 "nbformat": 4,
 "nbformat_minor": 2
}
